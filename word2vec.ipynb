{
  "nbformat": 4,
  "nbformat_minor": 0,
  "metadata": {
    "colab": {
      "name": "Copy of word2vec.ipynb",
      "version": "0.3.2",
      "provenance": [],
      "include_colab_link": true
    },
    "language_info": {
      "codemirror_mode": {
        "name": "ipython",
        "version": 3
      },
      "file_extension": ".py",
      "mimetype": "text/x-python",
      "name": "python",
      "nbconvert_exporter": "python",
      "pygments_lexer": "ipython3",
      "version": "3.7.0"
    },
    "kernelspec": {
      "display_name": "Python 3",
      "language": "python",
      "name": "python3"
    }
  },
  "cells": [
    {
      "cell_type": "markdown",
      "metadata": {
        "id": "view-in-github",
        "colab_type": "text"
      },
      "source": [
        "<a href=\"https://colab.research.google.com/github/CMWENLIU/CNN-text-multi-class-classification/blob/master/word2vec.ipynb\" target=\"_parent\"><img src=\"https://colab.research.google.com/assets/colab-badge.svg\" alt=\"Open In Colab\"/></a>"
      ]
    },
    {
      "cell_type": "markdown",
      "metadata": {
        "id": "DrQZj9CrfuQB",
        "colab_type": "text"
      },
      "source": [
        "# word2vec "
      ]
    },
    {
      "cell_type": "markdown",
      "metadata": {
        "id": "JKHu3RmDfuQR",
        "colab_type": "text"
      },
      "source": [
        "This notebook is equivalent to `demo-word.sh`, `demo-analogy.sh`, `demo-phrases.sh` and `demo-classes.sh` from Google."
      ]
    },
    {
      "cell_type": "code",
      "metadata": {
        "id": "CGhKNdDIf5Gd",
        "colab_type": "code",
        "colab": {}
      },
      "source": [
        "!pip install word2vec"
      ],
      "execution_count": 0,
      "outputs": []
    },
    {
      "cell_type": "code",
      "metadata": {
        "id": "FsyU4dhBf2b7",
        "colab_type": "code",
        "colab": {}
      },
      "source": [
        "urls = [\"https://raw.githubusercontent.com/CMWENLIU/Drug_label_embedding/master/fdalabel-query-1132.csv\",\n",
        "       \"https://raw.githubusercontent.com/CMWENLIU/Drug_label_embedding/master/indications_humanrx.xlsx\",\n",
        "       ]\n",
        "[wget.download(u) for u in urls]  "
      ],
      "execution_count": 0,
      "outputs": []
    },
    {
      "cell_type": "code",
      "metadata": {
        "id": "0XLYWFo-fuQa",
        "colab_type": "code",
        "colab": {}
      },
      "source": [
        "%load_ext autoreload\n",
        "%autoreload 2"
      ],
      "execution_count": 0,
      "outputs": []
    },
    {
      "cell_type": "markdown",
      "metadata": {
        "id": "UAz-A5ZpfuQn",
        "colab_type": "text"
      },
      "source": [
        "## Training"
      ]
    },
    {
      "cell_type": "markdown",
      "metadata": {
        "id": "3BV6sNJyfuQr",
        "colab_type": "text"
      },
      "source": [
        "Download some data, for example: [http://mattmahoney.net/dc/text8.zip](http://mattmahoney.net/dc/text8.zip)"
      ]
    },
    {
      "cell_type": "code",
      "metadata": {
        "id": "3MDg2EsBfuQu",
        "colab_type": "code",
        "colab": {}
      },
      "source": [
        "import word2vec"
      ],
      "execution_count": 0,
      "outputs": []
    },
    {
      "cell_type": "markdown",
      "metadata": {
        "id": "2bh3b8l3fuQ3",
        "colab_type": "text"
      },
      "source": [
        "Run `word2phrase` to group up similar words \"Los Angeles\" to \"Los_Angeles\""
      ]
    },
    {
      "cell_type": "code",
      "metadata": {
        "id": "m7ifBYkTfuQ5",
        "colab_type": "code",
        "outputId": "2e708dfe-1e90-4db3-dfe7-ccfd40d94a27",
        "colab": {}
      },
      "source": [
        "word2vec.word2phrase('/Users/drodriguez/Downloads/text8', '/Users/drodriguez/Downloads/text8-phrases', verbose=True)"
      ],
      "execution_count": 0,
      "outputs": [
        {
          "output_type": "stream",
          "text": [
            "Starting training using file /Users/drodriguez/Downloads/text8\n",
            "Words processed: 17000K     Vocab size: 4399K  \n",
            "Vocab size (unigrams + bigrams): 2419827\n",
            "Words in train file: 17005206\n"
          ],
          "name": "stdout"
        }
      ]
    },
    {
      "cell_type": "markdown",
      "metadata": {
        "id": "lV_ojIi8fuRB",
        "colab_type": "text"
      },
      "source": [
        "This created a `text8-phrases` file that we can use as a better input for `word2vec`.\n",
        "Note that you could easily skip this previous step and use the text data as input for `word2vec` directly.\n",
        "\n",
        "Now actually train the word2vec model."
      ]
    },
    {
      "cell_type": "code",
      "metadata": {
        "id": "uRr738rzfuRE",
        "colab_type": "code",
        "outputId": "49233027-ab80-4ddf-ad70-451b7ca56e66",
        "colab": {}
      },
      "source": [
        "word2vec.word2vec('/Users/drodriguez/Downloads/text8-phrases', '/Users/drodriguez/Downloads/text8.bin', size=100, verbose=True)"
      ],
      "execution_count": 0,
      "outputs": [
        {
          "output_type": "stream",
          "text": [
            "Starting training using file /Users/drodriguez/Downloads/text8-phrases\n",
            "Vocab size: 98331\n",
            "Words in train file: 15857306\n",
            "Alpha: 0.000002  Progress: 100.03%  Words/thread/sec: 323.95k  "
          ],
          "name": "stdout"
        }
      ]
    },
    {
      "cell_type": "markdown",
      "metadata": {
        "id": "9alOkziDfuRQ",
        "colab_type": "text"
      },
      "source": [
        "That created a `text8.bin` file containing the word vectors in a binary format."
      ]
    },
    {
      "cell_type": "markdown",
      "metadata": {
        "id": "9mIkiUgCfuRW",
        "colab_type": "text"
      },
      "source": [
        "Now we generate the clusters of the vectors based on the trained model."
      ]
    },
    {
      "cell_type": "code",
      "metadata": {
        "id": "lg33eOcDfuRY",
        "colab_type": "code",
        "outputId": "85090a62-87b8-4f62-f825-36c93dcc5ebb",
        "colab": {}
      },
      "source": [
        "word2vec.word2clusters('/Users/drodriguez/Downloads/text8', '/Users/drodriguez/Downloads/text8-clusters.txt', 100, verbose=True)"
      ],
      "execution_count": 0,
      "outputs": [
        {
          "output_type": "stream",
          "text": [
            "Starting training using file /Users/drodriguez/Downloads/text8\n",
            "Vocab size: 71291\n",
            "Words in train file: 16718843\n",
            "Alpha: 0.000002  Progress: 100.04%  Words/thread/sec: 317.72k  "
          ],
          "name": "stdout"
        }
      ]
    },
    {
      "cell_type": "markdown",
      "metadata": {
        "id": "HR-ToRihfuRh",
        "colab_type": "text"
      },
      "source": [
        "That created a `text8-clusters.txt` with the cluster for every word in the vocabulary"
      ]
    },
    {
      "cell_type": "markdown",
      "metadata": {
        "id": "Co4q2jAzfuRk",
        "colab_type": "text"
      },
      "source": [
        "## Predictions"
      ]
    },
    {
      "cell_type": "code",
      "metadata": {
        "id": "iBWav9B6fuRp",
        "colab_type": "code",
        "colab": {}
      },
      "source": [
        "%load_ext autoreload\n",
        "%autoreload 2"
      ],
      "execution_count": 0,
      "outputs": []
    },
    {
      "cell_type": "code",
      "metadata": {
        "id": "RaAFS8enfuR2",
        "colab_type": "code",
        "colab": {}
      },
      "source": [
        "import word2vec"
      ],
      "execution_count": 0,
      "outputs": []
    },
    {
      "cell_type": "markdown",
      "metadata": {
        "id": "cbil7XY1fuSA",
        "colab_type": "text"
      },
      "source": [
        "Import the `word2vec` binary file created above"
      ]
    },
    {
      "cell_type": "code",
      "metadata": {
        "id": "G6jqnD6_fuSC",
        "colab_type": "code",
        "colab": {}
      },
      "source": [
        "model = word2vec.load('/Users/drodriguez/Downloads/text8.bin')"
      ],
      "execution_count": 0,
      "outputs": []
    },
    {
      "cell_type": "markdown",
      "metadata": {
        "id": "yId59ylFfuSG",
        "colab_type": "text"
      },
      "source": [
        "We can take a look at the vocabulary as a numpy array"
      ]
    },
    {
      "cell_type": "code",
      "metadata": {
        "id": "0w8Tx5IhfuSJ",
        "colab_type": "code",
        "outputId": "20eef853-9d0c-48c2-a08d-823621a8bdeb",
        "colab": {}
      },
      "source": [
        "model.vocab"
      ],
      "execution_count": 0,
      "outputs": [
        {
          "output_type": "execute_result",
          "data": {
            "text/plain": [
              "array(['</s>', 'the', 'of', ..., 'dakotas', 'nias', 'burlesques'],\n",
              "      dtype='<U78')"
            ]
          },
          "metadata": {
            "tags": []
          },
          "execution_count": 5
        }
      ]
    },
    {
      "cell_type": "markdown",
      "metadata": {
        "id": "FKTdN68bfuST",
        "colab_type": "text"
      },
      "source": [
        "Or take a look at the whole matrix"
      ]
    },
    {
      "cell_type": "code",
      "metadata": {
        "id": "NRP4isKafuSV",
        "colab_type": "code",
        "outputId": "d1ead0b3-033d-4678-9634-e7db994c1455",
        "colab": {}
      },
      "source": [
        "model.vectors.shape"
      ],
      "execution_count": 0,
      "outputs": [
        {
          "output_type": "execute_result",
          "data": {
            "text/plain": [
              "(98331, 100)"
            ]
          },
          "metadata": {
            "tags": []
          },
          "execution_count": 6
        }
      ]
    },
    {
      "cell_type": "code",
      "metadata": {
        "id": "oT5vfy34fuSd",
        "colab_type": "code",
        "outputId": "100caa71-6819-4f7a-ed9d-4df2fc7a37e3",
        "colab": {}
      },
      "source": [
        "model.vectors"
      ],
      "execution_count": 0,
      "outputs": [
        {
          "output_type": "execute_result",
          "data": {
            "text/plain": [
              "array([[ 0.14333282,  0.15825513, -0.13715845, ...,  0.05456942,\n",
              "         0.10955409,  0.00693387],\n",
              "       [ 0.07306823,  0.1179086 ,  0.10995189, ...,  0.09345266,\n",
              "        -0.1312812 , -0.00915683],\n",
              "       [ 0.26229969,  0.02270839,  0.05854911, ...,  0.03924898,\n",
              "        -0.03867628,  0.21437503],\n",
              "       ...,\n",
              "       [-0.1427108 ,  0.10650002,  0.07283197, ...,  0.14563465,\n",
              "        -0.06967127,  0.037186  ],\n",
              "       [ 0.06538665, -0.04184594,  0.13385373, ...,  0.08183857,\n",
              "        -0.07006828, -0.09386028],\n",
              "       [-0.00991228, -0.12096601,  0.10771658, ...,  0.01684521,\n",
              "        -0.143217  , -0.10602982]])"
            ]
          },
          "metadata": {
            "tags": []
          },
          "execution_count": 7
        }
      ]
    },
    {
      "cell_type": "markdown",
      "metadata": {
        "id": "VV1cyWtrfuSn",
        "colab_type": "text"
      },
      "source": [
        "We can retreive the vector of individual words"
      ]
    },
    {
      "cell_type": "code",
      "metadata": {
        "id": "OSAgDNB3fuSo",
        "colab_type": "code",
        "outputId": "629c4095-7f9b-430c-bea7-d36b5ff268d2",
        "colab": {}
      },
      "source": [
        "model['dog'].shape"
      ],
      "execution_count": 0,
      "outputs": [
        {
          "output_type": "execute_result",
          "data": {
            "text/plain": [
              "(100,)"
            ]
          },
          "metadata": {
            "tags": []
          },
          "execution_count": 8
        }
      ]
    },
    {
      "cell_type": "code",
      "metadata": {
        "id": "ZFq3og7nfuSx",
        "colab_type": "code",
        "outputId": "258d59a1-33e2-4f78-83d1-3d6e24c63c9b",
        "colab": {}
      },
      "source": [
        "model['dog'][:10]"
      ],
      "execution_count": 0,
      "outputs": [
        {
          "output_type": "execute_result",
          "data": {
            "text/plain": [
              "array([ 0.06666815,  0.12450022,  0.02513653,  0.12673911,  0.13396765,\n",
              "       -0.00938436,  0.06476378,  0.15387769,  0.05472341, -0.08388881])"
            ]
          },
          "metadata": {
            "tags": []
          },
          "execution_count": 9
        }
      ]
    },
    {
      "cell_type": "markdown",
      "metadata": {
        "id": "Bv05SpHZfuTA",
        "colab_type": "text"
      },
      "source": [
        "We can calculate the distance between two or more (all combinations) words."
      ]
    },
    {
      "cell_type": "code",
      "metadata": {
        "id": "EoMVX1vTfuTE",
        "colab_type": "code",
        "outputId": "cbf7ac6c-23b1-44bc-afe9-ffc7e43bf5d6",
        "colab": {}
      },
      "source": [
        "model.distance(\"dog\", \"cat\", \"fish\")"
      ],
      "execution_count": 0,
      "outputs": [
        {
          "output_type": "execute_result",
          "data": {
            "text/plain": [
              "[('dog', 'cat', 0.8693732680572173),\n",
              " ('dog', 'fish', 0.5900484800297155),\n",
              " ('cat', 'fish', 0.6269017149314428)]"
            ]
          },
          "metadata": {
            "tags": []
          },
          "execution_count": 10
        }
      ]
    },
    {
      "cell_type": "markdown",
      "metadata": {
        "id": "81cKNTaxfuTO",
        "colab_type": "text"
      },
      "source": [
        "## Similarity\n",
        "\n",
        "We can do simple queries to retreive words similar to \"socks\" based on cosine similarity:"
      ]
    },
    {
      "cell_type": "code",
      "metadata": {
        "id": "Ay1l-1XgfuTQ",
        "colab_type": "code",
        "outputId": "31529b68-c9a2-4ac5-e819-c666d95d4fdf",
        "colab": {}
      },
      "source": [
        "indexes, metrics = model.similar(\"dog\")\n",
        "indexes, metrics"
      ],
      "execution_count": 0,
      "outputs": [
        {
          "output_type": "execute_result",
          "data": {
            "text/plain": [
              "(array([ 2437,  5478,  7593, 10230,  3964,  9963,  2428, 10309,  4812,\n",
              "         2391]),\n",
              " array([0.86937327, 0.83396105, 0.77854628, 0.7692265 , 0.76743628,\n",
              "        0.7612772 , 0.7600788 , 0.75935677, 0.75693881, 0.75438956]))"
            ]
          },
          "metadata": {
            "tags": []
          },
          "execution_count": 11
        }
      ]
    },
    {
      "cell_type": "markdown",
      "metadata": {
        "id": "oAVLd_hRfuTa",
        "colab_type": "text"
      },
      "source": [
        "This returned a tuple with 2 items:\n",
        "1. numpy array with the indexes of the similar words in the vocabulary\n",
        "2. numpy array with cosine similarity to each word"
      ]
    },
    {
      "cell_type": "markdown",
      "metadata": {
        "id": "LuAZfPnYfuTd",
        "colab_type": "text"
      },
      "source": [
        "We can get the words for those indexes"
      ]
    },
    {
      "cell_type": "code",
      "metadata": {
        "id": "QzjjBROmfuTh",
        "colab_type": "code",
        "outputId": "712ba247-f9b0-4acf-d9a5-1401d4744f59",
        "colab": {}
      },
      "source": [
        "model.vocab[indexes]"
      ],
      "execution_count": 0,
      "outputs": [
        {
          "output_type": "execute_result",
          "data": {
            "text/plain": [
              "array(['cat', 'cow', 'goat', 'pig', 'dogs', 'rabbit', 'bear', 'rat',\n",
              "       'wolf', 'girl'], dtype='<U78')"
            ]
          },
          "metadata": {
            "tags": []
          },
          "execution_count": 12
        }
      ]
    },
    {
      "cell_type": "markdown",
      "metadata": {
        "id": "1uAZEE3qfuTx",
        "colab_type": "text"
      },
      "source": [
        "There is a helper function to create a combined response as a numpy [record array](http://docs.scipy.org/doc/numpy/user/basics.rec.html)"
      ]
    },
    {
      "cell_type": "code",
      "metadata": {
        "id": "0n4lvA_XfuTy",
        "colab_type": "code",
        "outputId": "35600a68-b2c3-49c8-b617-e59f9c756c6c",
        "colab": {}
      },
      "source": [
        "model.generate_response(indexes, metrics)"
      ],
      "execution_count": 0,
      "outputs": [
        {
          "output_type": "execute_result",
          "data": {
            "text/plain": [
              "rec.array([('cat', 0.86937327), ('cow', 0.83396105), ('goat', 0.77854628),\n",
              "           ('pig', 0.7692265 ), ('dogs', 0.76743628),\n",
              "           ('rabbit', 0.7612772 ), ('bear', 0.7600788 ),\n",
              "           ('rat', 0.75935677), ('wolf', 0.75693881),\n",
              "           ('girl', 0.75438956)],\n",
              "          dtype=[('word', '<U78'), ('metric', '<f8')])"
            ]
          },
          "metadata": {
            "tags": []
          },
          "execution_count": 13
        }
      ]
    },
    {
      "cell_type": "markdown",
      "metadata": {
        "id": "m7vpEfNbfuT5",
        "colab_type": "text"
      },
      "source": [
        "Is easy to make that numpy array a pure python response:"
      ]
    },
    {
      "cell_type": "code",
      "metadata": {
        "id": "ATbFhTGwfuT6",
        "colab_type": "code",
        "outputId": "37b60c15-ed36-49dc-e12c-8a5a1cfb2a11",
        "colab": {}
      },
      "source": [
        "model.generate_response(indexes, metrics).tolist()"
      ],
      "execution_count": 0,
      "outputs": [
        {
          "output_type": "execute_result",
          "data": {
            "text/plain": [
              "[('cat', 0.8693732680572173),\n",
              " ('cow', 0.8339610529888226),\n",
              " ('goat', 0.7785462766666428),\n",
              " ('pig', 0.7692265048531302),\n",
              " ('dogs', 0.7674362783482181),\n",
              " ('rabbit', 0.7612771996422674),\n",
              " ('bear', 0.7600788045286304),\n",
              " ('rat', 0.7593567655129181),\n",
              " ('wolf', 0.7569388070301634),\n",
              " ('girl', 0.754389556345068)]"
            ]
          },
          "metadata": {
            "tags": []
          },
          "execution_count": 14
        }
      ]
    },
    {
      "cell_type": "markdown",
      "metadata": {
        "id": "6SGCTHptfuUD",
        "colab_type": "text"
      },
      "source": [
        "### Phrases"
      ]
    },
    {
      "cell_type": "markdown",
      "metadata": {
        "id": "6hdd5g4ofuUE",
        "colab_type": "text"
      },
      "source": [
        "Since we trained the model with the output of `word2phrase` we can ask for similarity of \"phrases\", basically compained words such as \"Los Angeles\""
      ]
    },
    {
      "cell_type": "code",
      "metadata": {
        "id": "drEU2HbxfuUF",
        "colab_type": "code",
        "outputId": "6f510901-5799-4dd4-c74c-35fd8c342bcc",
        "colab": {}
      },
      "source": [
        "indexes, metrics = model.similar('los_angeles')\n",
        "model.generate_response(indexes, metrics).tolist()"
      ],
      "execution_count": 0,
      "outputs": [
        {
          "output_type": "execute_result",
          "data": {
            "text/plain": [
              "[('san_francisco', 0.8876351265573288),\n",
              " ('san_diego', 0.8652920422732189),\n",
              " ('seattle', 0.8387625165949533),\n",
              " ('las_vegas', 0.8325965377422355),\n",
              " ('california', 0.8252775393303263),\n",
              " ('miami', 0.8167069457881345),\n",
              " ('detroit', 0.8164911899252103),\n",
              " ('chicago', 0.813283620659967),\n",
              " ('cincinnati', 0.8116379669114295),\n",
              " ('cleveland', 0.810708205429068)]"
            ]
          },
          "metadata": {
            "tags": []
          },
          "execution_count": 15
        }
      ]
    },
    {
      "cell_type": "markdown",
      "metadata": {
        "id": "5OeEH_jvfuUS",
        "colab_type": "text"
      },
      "source": [
        "### Analogies"
      ]
    },
    {
      "cell_type": "markdown",
      "metadata": {
        "id": "EnLMFIr3fuUU",
        "colab_type": "text"
      },
      "source": [
        "Its possible to do more complex queries like analogies such as: `king - man + woman = queen` \n",
        "This method returns the same as `cosine` the indexes of the words in the vocab and the metric"
      ]
    },
    {
      "cell_type": "code",
      "metadata": {
        "id": "JAdOIuMsfuUV",
        "colab_type": "code",
        "outputId": "581f67f4-7c7f-4a27-df18-7e51025595e4",
        "colab": {}
      },
      "source": [
        "indexes, metrics = model.analogy(pos=['king', 'woman'], neg=['man'])\n",
        "indexes, metrics"
      ],
      "execution_count": 0,
      "outputs": [
        {
          "output_type": "execute_result",
          "data": {
            "text/plain": [
              "(array([1087, 6768, 1145, 7523, 1335, 8419, 3141, 1827,  344, 4980]),\n",
              " array([0.28823424, 0.26614362, 0.26265608, 0.26111525, 0.26091172,\n",
              "        0.25844542, 0.25781944, 0.25678284, 0.25424551, 0.2529607 ]))"
            ]
          },
          "metadata": {
            "tags": []
          },
          "execution_count": 16
        }
      ]
    },
    {
      "cell_type": "code",
      "metadata": {
        "id": "-CJibAkSfuUb",
        "colab_type": "code",
        "outputId": "9aa36aba-c579-4180-e150-d6ac80c2be71",
        "colab": {}
      },
      "source": [
        "model.generate_response(indexes, metrics).tolist()"
      ],
      "execution_count": 0,
      "outputs": [
        {
          "output_type": "execute_result",
          "data": {
            "text/plain": [
              "[('queen', 0.28823424120681784),\n",
              " ('regent', 0.26614361576778933),\n",
              " ('prince', 0.2626560787162791),\n",
              " ('empress', 0.2611152451318436),\n",
              " ('wife', 0.26091172315990346),\n",
              " ('aragon', 0.25844541581050506),\n",
              " ('monarch', 0.25781944140528035),\n",
              " ('throne', 0.256782835877586),\n",
              " ('son', 0.25424550637754495),\n",
              " ('heir', 0.25296070456687614)]"
            ]
          },
          "metadata": {
            "tags": []
          },
          "execution_count": 17
        }
      ]
    },
    {
      "cell_type": "markdown",
      "metadata": {
        "id": "e2dAuDWYfuUm",
        "colab_type": "text"
      },
      "source": [
        "### Clusters"
      ]
    },
    {
      "cell_type": "code",
      "metadata": {
        "id": "jOo3acJgfuUo",
        "colab_type": "code",
        "colab": {}
      },
      "source": [
        "clusters = word2vec.load_clusters('/Users/drodriguez/Downloads/text8-clusters.txt')"
      ],
      "execution_count": 0,
      "outputs": []
    },
    {
      "cell_type": "markdown",
      "metadata": {
        "id": "zaQ-QCqMfuUq",
        "colab_type": "text"
      },
      "source": [
        "We can see get the cluster number for individual words"
      ]
    },
    {
      "cell_type": "code",
      "metadata": {
        "id": "CBNeR-_EfuUr",
        "colab_type": "code",
        "outputId": "40f9c688-b71b-4d33-8312-478708ce8e70",
        "colab": {}
      },
      "source": [
        "clusters.vocab"
      ],
      "execution_count": 0,
      "outputs": [
        {
          "output_type": "execute_result",
          "data": {
            "text/plain": [
              "array(['</s>', 'the', 'of', ..., 'bredon', 'skirting', 'santamaria'],\n",
              "      dtype='<U29')"
            ]
          },
          "metadata": {
            "tags": []
          },
          "execution_count": 19
        }
      ]
    },
    {
      "cell_type": "markdown",
      "metadata": {
        "id": "2kUEdzNqfuUx",
        "colab_type": "text"
      },
      "source": [
        "We can see get all the words grouped on an specific cluster"
      ]
    },
    {
      "cell_type": "code",
      "metadata": {
        "id": "nBbxvaZafuU0",
        "colab_type": "code",
        "outputId": "8fef23bc-864f-4585-8475-e54b93919bdc",
        "colab": {}
      },
      "source": [
        "clusters.get_words_on_cluster(90).shape"
      ],
      "execution_count": 0,
      "outputs": [
        {
          "output_type": "execute_result",
          "data": {
            "text/plain": [
              "(206,)"
            ]
          },
          "metadata": {
            "tags": []
          },
          "execution_count": 20
        }
      ]
    },
    {
      "cell_type": "code",
      "metadata": {
        "id": "vMTpiEnCfuU9",
        "colab_type": "code",
        "outputId": "faac38ce-2fcb-4d05-de79-89642ff96902",
        "colab": {}
      },
      "source": [
        "clusters.get_words_on_cluster(90)[:10]"
      ],
      "execution_count": 0,
      "outputs": [
        {
          "output_type": "execute_result",
          "data": {
            "text/plain": [
              "array(['along', 'associated', 'relations', 'relationship', 'deal',\n",
              "       'combined', 'contact', 'connection', 'respect', 'mixed'],\n",
              "      dtype='<U29')"
            ]
          },
          "metadata": {
            "tags": []
          },
          "execution_count": 21
        }
      ]
    },
    {
      "cell_type": "markdown",
      "metadata": {
        "id": "TZRm9COYfuVD",
        "colab_type": "text"
      },
      "source": [
        "We can add the clusters to the word2vec model and generate a response that includes the clusters"
      ]
    },
    {
      "cell_type": "code",
      "metadata": {
        "id": "xiGuOH-mfuVE",
        "colab_type": "code",
        "colab": {}
      },
      "source": [
        "model.clusters = clusters"
      ],
      "execution_count": 0,
      "outputs": []
    },
    {
      "cell_type": "code",
      "metadata": {
        "id": "k-kHZOvCfuVI",
        "colab_type": "code",
        "colab": {}
      },
      "source": [
        "indexes, metrics = model.analogy(pos=[\"paris\", \"germany\"], neg=[\"france\"])"
      ],
      "execution_count": 0,
      "outputs": []
    },
    {
      "cell_type": "code",
      "metadata": {
        "id": "OUtyavt5fuVN",
        "colab_type": "code",
        "outputId": "6894c889-ec22-47f1-dab6-d5dbd7f8940a",
        "colab": {}
      },
      "source": [
        "model.generate_response(indexes, metrics).tolist()"
      ],
      "execution_count": 0,
      "outputs": [
        {
          "output_type": "execute_result",
          "data": {
            "text/plain": [
              "[('berlin', 0.3187078682472152, 15),\n",
              " ('vienna', 0.28562803640143397, 12),\n",
              " ('munich', 0.28527806428082675, 21),\n",
              " ('moscow', 0.27085681100243797, 74),\n",
              " ('leipzig', 0.2697639527846636, 8),\n",
              " ('st_petersburg', 0.25841328545046965, 61),\n",
              " ('prague', 0.2571333430942206, 72),\n",
              " ('bonn', 0.2546126113385251, 8),\n",
              " ('dresden', 0.2471285069069249, 71),\n",
              " ('warsaw', 0.2450778083401204, 74)]"
            ]
          },
          "metadata": {
            "tags": []
          },
          "execution_count": 24
        }
      ]
    },
    {
      "cell_type": "code",
      "metadata": {
        "id": "J1wFg9UVfuVZ",
        "colab_type": "code",
        "colab": {}
      },
      "source": [
        ""
      ],
      "execution_count": 0,
      "outputs": []
    }
  ]
}